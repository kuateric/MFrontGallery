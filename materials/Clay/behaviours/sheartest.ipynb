{
 "cells": [
  {
   "cell_type": "code",
   "execution_count": 9,
   "metadata": {},
   "outputs": [],
   "source": [
    "from ogs6py.ogs import OGS\n",
    "#from ogs import *\n",
    "#import ogs\n",
    "import pandas as pd\n",
    "import vtuIO\n",
    "import math\n",
    "import numpy as np\n",
    "import matplotlib.pyplot as plt\n",
    "import seaborn as sns\n",
    "plt.rcParams.update({'font.size': 12})\n",
    "import std\n",
    "import tfel.tests\n",
    "from mtest import *\n",
    "import os\n",
    "import math \n",
    "import mtest"
   ]
  },
  {
   "cell_type": "code",
   "execution_count": 10,
   "metadata": {},
   "outputs": [],
   "source": [
    "#os.environ['LD_LIBRARY_PATH'] = \"/home/eric/sources/mfront/HypoplasWrapper\" \n",
    "#!export LD_LIBRARY_PATH=\"/home/eric/sources/mfront/HypoplasWrapper:$LD_LIBRARY_PATH\"\n",
    "os.environ['LD_LIBRARY_PATH'] = \"$(pwd):$LD_LIBRARY_PATH\"\n",
    "!export LD_LIBRARY_PATH=$(pwd):$LD_LIBRARY_PATH"
   ]
  },
  {
   "cell_type": "code",
   "execution_count": 12,
   "metadata": {},
   "outputs": [
    {
     "ename": "RuntimeError",
     "evalue": "ExternalLibraryManager::getInterface: no interface found for entry point 'HypoplasticClayModelWrapper_Tridimensional' in library './src/libBehaviour.so'",
     "output_type": "error",
     "traceback": [
      "\u001b[0;31m---------------------------------------------------------------------------\u001b[0m",
      "\u001b[0;31mRuntimeError\u001b[0m                              Traceback (most recent call last)",
      "\u001b[1;32m/home/eric/sources/mfront/MFrontGallery/materials/Clay/behaviours/sheartest_results.ipynb Cell 3'\u001b[0m in \u001b[0;36m<cell line: 5>\u001b[0;34m()\u001b[0m\n\u001b[1;32m      <a href='vscode-notebook-cell:/home/eric/sources/mfront/MFrontGallery/materials/Clay/behaviours/sheartest_results.ipynb#ch0000001?line=1'>2</a>\u001b[0m m \u001b[39m=\u001b[39m MTest()\n\u001b[1;32m      <a href='vscode-notebook-cell:/home/eric/sources/mfront/MFrontGallery/materials/Clay/behaviours/sheartest_results.ipynb#ch0000001?line=3'>4</a>\u001b[0m \u001b[39m# parameters\u001b[39;00m\n\u001b[0;32m----> <a href='vscode-notebook-cell:/home/eric/sources/mfront/MFrontGallery/materials/Clay/behaviours/sheartest_results.ipynb#ch0000001?line=4'>5</a>\u001b[0m m\u001b[39m.\u001b[39;49msetBehaviour(\u001b[39m'\u001b[39;49m\u001b[39mgeneric\u001b[39;49m\u001b[39m'\u001b[39;49m, \u001b[39m'\u001b[39;49m\u001b[39m./src/libBehaviour.so\u001b[39;49m\u001b[39m'\u001b[39;49m, \u001b[39m'\u001b[39;49m\u001b[39mHypoplasticClayModelWrapper_Tridimensional\u001b[39;49m\u001b[39m'\u001b[39;49m)\n\u001b[1;32m      <a href='vscode-notebook-cell:/home/eric/sources/mfront/MFrontGallery/materials/Clay/behaviours/sheartest_results.ipynb#ch0000001?line=5'>6</a>\u001b[0m m\u001b[39m.\u001b[39msetMaterialProperty(\u001b[39m'\u001b[39m\u001b[39mmps[0]\u001b[39m\u001b[39m'\u001b[39m, \u001b[39m22.0\u001b[39m)\n\u001b[1;32m      <a href='vscode-notebook-cell:/home/eric/sources/mfront/MFrontGallery/materials/Clay/behaviours/sheartest_results.ipynb#ch0000001?line=6'>7</a>\u001b[0m m\u001b[39m.\u001b[39msetMaterialProperty(\u001b[39m'\u001b[39m\u001b[39mmps[1]\u001b[39m\u001b[39m'\u001b[39m, \u001b[39m0.01\u001b[39m)\n",
      "\u001b[0;31mRuntimeError\u001b[0m: ExternalLibraryManager::getInterface: no interface found for entry point 'HypoplasticClayModelWrapper_Tridimensional' in library './src/libBehaviour.so'"
     ]
    }
   ],
   "source": [
    "\n",
    "# python object\n",
    "m = MTest()\n",
    "\n",
    "# parameters\n",
    "m.setBehaviour('generic', './src/libBehaviour.so', 'HypoplasticClayModelWrapper')\n",
    "m.setMaterialProperty('mps[0]', 22.0)\n",
    "m.setMaterialProperty('mps[1]', 0.01)\n",
    "m.setMaterialProperty('mps[2]', 0.128)\n",
    "m.setMaterialProperty('mps[3]', 0.015)\n",
    "m.setMaterialProperty('mps[4]', 1.51)\n",
    "m.setMaterialProperty('mps[5]', 0.45)\n",
    "m.setMaterialProperty('mps[6]', 1.0)\n",
    "m.setMaterialProperty('mps[7]', 0.0)\n",
    "m.setMaterialProperty('mps[8]', 0.0)\n",
    "m.setMaterialProperty('mps[9]', 0.0)\n",
    "m.setMaterialProperty('mps[10]', 5.0e-5)\n",
    "m.setMaterialProperty('mps[11]', 0.08)\n",
    "m.setMaterialProperty('mps[12]', 0.9)\n",
    "m.setMaterialProperty('mps[13]', 0.0)\n",
    "m.setMaterialProperty('mps[14]', 1.0)\n",
    "m.setMaterialProperty('mps[15]', 0.5)\n",
    "m.setMaterialProperty('mps[16]', 0.0)\n",
    "m.setMaterialProperty('mps[17]', 3.0)\n",
    "m.setMaterialProperty('mps[18]', 0.0)\n",
    "m.setMaterialProperty('mps[19]', 0.0)\n",
    "m.setMaterialProperty('mps[20]', 0.0)\n",
    "m.setMaterialProperty('mps[21]', 0.761)\n",
    "\n",
    "m.setExternalStateVariable('Temperature', 293.15)\n",
    "\n",
    "#Initializing the stress state\n",
    "m.setStress([-100.0e3, -100.0e3, -100.0e3, 0.0, 0.0, 0.0])\n",
    "\n",
    "## --- undrained shear test conditions ---\n",
    "#m.setImposedStrain('EXX', 0.0)\n",
    "#m.setImposedStrain('EYY', 0.0)\n",
    "#m.setImposedStrain('EZZ', 0.0)\n",
    "#m.setImposedStrain('EXY', {0.0:0.0,100:1.0*math.sqrt(2)})\n",
    "\n",
    "## --- drained shear test conditions ---\n",
    "m.setImposedStrain('EXX', 0)\n",
    "m.setImposedStrain('EYY', 0.0)\n",
    "m.setImposedStrain('EZZ', 0.0)\n",
    "m.setImposedStrain('EYZ', 0.0)\n",
    "m.setImposedStrain('EXZ', 0.0)\n",
    "m.setImposedStrain('EXY', {0.0:0.0,100:1.0*math.sqrt(2)})#\n",
    "\n",
    "#m.addEvolution('p', {0 : -275., 100 : -13000})\n",
    "#m.setNonLinearConstraint('SYY + SXX + SZZ - 3*p','Stress')\n",
    "m.setTimes([i*0.1 for i in range(0,1000)])\n",
    "\n",
    "# output file\n",
    "output_file = 'sheartest.res'\n",
    "m.setOutputFileName(output_file)\n",
    "\n",
    "# execute MTest\n",
    "m.execute()"
   ]
  },
  {
   "cell_type": "code",
   "execution_count": 13,
   "metadata": {
    "scrolled": true
   },
   "outputs": [],
   "source": [
    "# load results\n",
    "output_file = 'sheartest.res'\n",
    "results = np.loadtxt(output_file,skiprows=32)\n",
    "\n",
    "xdata_mtest = [(results[i][4]/math.sqrt(2)) for i in range(len(results))]  # EXZ   4\n",
    "ydata_mtest = [(results[i][10]/math.sqrt(2)/1e3) for i in range(len(results))]  # SXZ:11 , SXY:10\n",
    "ydata_1_mtest = [-(results[i][1]) for i in range(len(results))]  # EXX\n",
    "ydata_2_mtest = [-(results[i][2]) for i in range(len(results))]  # EYY\n",
    "ydata_3_mtest = [-(results[i][3]) for i in range(len(results))]  # EZZ \n",
    "ydata_4_mtest = [-(results[i][4]) for i in range(len(results))]  # EZZ \n",
    "ydata_5_mtest = [-(results[i][5]) for i in range(len(results))]  # EZZ \n",
    "ydata_6_mtest = [-(results[i][6]) for i in range(len(results))]  # EZZ \n",
    "\n"
   ]
  },
  {
   "cell_type": "code",
   "execution_count": 16,
   "metadata": {},
   "outputs": [
    {
     "data": {
      "image/png": "[encoded data removed]",
      "text/plain": [
       "<Figure size 432x288 with 1 Axes>"
      ]
     },
     "metadata": {
      "needs_background": "light"
     },
     "output_type": "display_data"
    }
   ],
   "source": [
    "## --- shear stress - strain - plot --- ##\n",
    "plt.plot(xdata_mtest, ydata_mtest, label='Hypoplastic Model Clays')\n",
    "\n",
    "\n",
    "plt.legend()\n",
    "plt.xlabel('$\\epsilon_{xy}$ [-]')\n",
    "plt.ylabel(' $\\sigma_{xy}$ [kPa]')\n",
    "plt.savefig('sheartest.png',dpi=300)\n",
    "plt.show()\n"
   ]
  }
 ],
 "metadata": {
  "kernelspec": {
   "display_name": "Python 3.10.6 64-bit",
   "language": "python",
   "name": "python3"
  },
  "language_info": {
   "codemirror_mode": {
    "name": "ipython",
    "version": 3
   },
   "file_extension": ".py",
   "mimetype": "text/x-python",
   "name": "python",
   "nbconvert_exporter": "python",
   "pygments_lexer": "ipython3",
   "version": "3.10.12"
  },
  "vscode": {
   "interpreter": {
    "hash": "31f2aee4e71d21fbe5cf8b01ff0e069b9275f58929596ceb00d14d90e3e16cd6"
   }
  }
 },
 "nbformat": 4,
 "nbformat_minor": 4
}
